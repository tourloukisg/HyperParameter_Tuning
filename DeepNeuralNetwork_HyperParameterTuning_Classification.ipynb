{
 "cells": [
  {
   "cell_type": "markdown",
   "metadata": {},
   "source": [
    "# Deep Learning Neural Network Tuning Demonstration: a) Kernel_Initializer,   b) Activation_Function, c) HiddenLayerSize&Neurons,d) Batch_Size, e)Epochs\n",
    "\n",
    "**--------------------------------------------------------------------------------------------------------------------------**\n",
    "**--------------------------------------------------------------------------------------------------------------------------**\n",
    "**--------------------------------------------------------------------------------------------------------------------------**\n",
    "**---------------------------------------------------**\n",
    "\n",
    "\n",
    "**STRUCTURE**\n",
    "\n",
    "*In this notebook, the use of GridSearchCV for deep learning neural network hyperparameter tuning is demonstrated. Determining the optimal hyperparameters of a ML model is important as they can affect its training performance and its ability to correctly classify new inputs. The first step is to import the dataset (breast_cancer dataset) and to perform all necessary tasks with respect to the records/values of the independent (inputs) and the dependent (output) features (rescaling,reshaping,input-output feature selection,splitting into train/test set --> data preparation/preprocessing stage). The next step is to build the deep learning model or estimator (use of tensorflow.keras). In terms of the model hyperparameters,for each parameter that is to be tuned ( a) weight initialization, b) activation function, c) hidden layer size & neurons, d) batch_size & e) epochs ) different inputs/values are provided. The role of Grid Search is to try to fit the model to the train samples by 'examining' all possible  combinations of the specified hyperparameters inputs/values so as to evaluate the model performance and select the best values based on the model accuracy (applying cross-validation '5-fold CV').* \n",
    "\n",
    "*The classification capabilities of the deep learning model are assessed in the final step of this demonstration. By using the 'predict' GridSearchCV option, the test samples become the new model inputs and the model uses the best parameters from Grid Search to predict their classes (Classification performance metrics (sklearn.metrics): Classification Report, Confusion Matrix & Accuracy Score).*\n",
    "\n",
    "\n",
    "**The Dataset for this demonstration has been imported from sklearn.datasets (\"load_breast_cancer\")**\n",
    "\n",
    "\n"
   ]
  },
  {
   "cell_type": "code",
   "execution_count": 1,
   "metadata": {},
   "outputs": [],
   "source": [
    "# Importing libraries/packages\n",
    "import pandas as pd\n",
    "import numpy as np\n",
    "import matplotlib.pyplot as plt\n",
    "import seaborn as sns\n",
    "import warnings\n",
    "warnings.filterwarnings('ignore')"
   ]
  },
  {
   "cell_type": "code",
   "execution_count": 2,
   "metadata": {},
   "outputs": [],
   "source": [
    "# Importing the dataset from sklearn.datasets\n",
    "from sklearn.datasets import load_breast_cancer\n",
    "dataset=load_breast_cancer()\n",
    "# Dataset conversion to pandas dataframe\n",
    "df = pd.DataFrame(data= np.c_[dataset['data'], dataset['target']],\n",
    "                 columns= dataset['feature_names'].tolist() + ['target'])"
   ]
  },
  {
   "cell_type": "code",
   "execution_count": 3,
   "metadata": {
    "scrolled": false
   },
   "outputs": [
    {
     "data": {
      "text/html": [
       "<div>\n",
       "<style scoped>\n",
       "    .dataframe tbody tr th:only-of-type {\n",
       "        vertical-align: middle;\n",
       "    }\n",
       "\n",
       "    .dataframe tbody tr th {\n",
       "        vertical-align: top;\n",
       "    }\n",
       "\n",
       "    .dataframe thead th {\n",
       "        text-align: right;\n",
       "    }\n",
       "</style>\n",
       "<table border=\"1\" class=\"dataframe\">\n",
       "  <thead>\n",
       "    <tr style=\"text-align: right;\">\n",
       "      <th></th>\n",
       "      <th>mean radius</th>\n",
       "      <th>mean texture</th>\n",
       "      <th>mean perimeter</th>\n",
       "      <th>mean area</th>\n",
       "      <th>mean smoothness</th>\n",
       "      <th>mean compactness</th>\n",
       "      <th>mean concavity</th>\n",
       "      <th>mean concave points</th>\n",
       "      <th>mean symmetry</th>\n",
       "      <th>mean fractal dimension</th>\n",
       "      <th>...</th>\n",
       "      <th>worst texture</th>\n",
       "      <th>worst perimeter</th>\n",
       "      <th>worst area</th>\n",
       "      <th>worst smoothness</th>\n",
       "      <th>worst compactness</th>\n",
       "      <th>worst concavity</th>\n",
       "      <th>worst concave points</th>\n",
       "      <th>worst symmetry</th>\n",
       "      <th>worst fractal dimension</th>\n",
       "      <th>target</th>\n",
       "    </tr>\n",
       "  </thead>\n",
       "  <tbody>\n",
       "    <tr>\n",
       "      <th>0</th>\n",
       "      <td>17.99</td>\n",
       "      <td>10.38</td>\n",
       "      <td>122.80</td>\n",
       "      <td>1001.0</td>\n",
       "      <td>0.11840</td>\n",
       "      <td>0.27760</td>\n",
       "      <td>0.3001</td>\n",
       "      <td>0.14710</td>\n",
       "      <td>0.2419</td>\n",
       "      <td>0.07871</td>\n",
       "      <td>...</td>\n",
       "      <td>17.33</td>\n",
       "      <td>184.60</td>\n",
       "      <td>2019.0</td>\n",
       "      <td>0.1622</td>\n",
       "      <td>0.6656</td>\n",
       "      <td>0.7119</td>\n",
       "      <td>0.2654</td>\n",
       "      <td>0.4601</td>\n",
       "      <td>0.11890</td>\n",
       "      <td>0.0</td>\n",
       "    </tr>\n",
       "    <tr>\n",
       "      <th>1</th>\n",
       "      <td>20.57</td>\n",
       "      <td>17.77</td>\n",
       "      <td>132.90</td>\n",
       "      <td>1326.0</td>\n",
       "      <td>0.08474</td>\n",
       "      <td>0.07864</td>\n",
       "      <td>0.0869</td>\n",
       "      <td>0.07017</td>\n",
       "      <td>0.1812</td>\n",
       "      <td>0.05667</td>\n",
       "      <td>...</td>\n",
       "      <td>23.41</td>\n",
       "      <td>158.80</td>\n",
       "      <td>1956.0</td>\n",
       "      <td>0.1238</td>\n",
       "      <td>0.1866</td>\n",
       "      <td>0.2416</td>\n",
       "      <td>0.1860</td>\n",
       "      <td>0.2750</td>\n",
       "      <td>0.08902</td>\n",
       "      <td>0.0</td>\n",
       "    </tr>\n",
       "    <tr>\n",
       "      <th>2</th>\n",
       "      <td>19.69</td>\n",
       "      <td>21.25</td>\n",
       "      <td>130.00</td>\n",
       "      <td>1203.0</td>\n",
       "      <td>0.10960</td>\n",
       "      <td>0.15990</td>\n",
       "      <td>0.1974</td>\n",
       "      <td>0.12790</td>\n",
       "      <td>0.2069</td>\n",
       "      <td>0.05999</td>\n",
       "      <td>...</td>\n",
       "      <td>25.53</td>\n",
       "      <td>152.50</td>\n",
       "      <td>1709.0</td>\n",
       "      <td>0.1444</td>\n",
       "      <td>0.4245</td>\n",
       "      <td>0.4504</td>\n",
       "      <td>0.2430</td>\n",
       "      <td>0.3613</td>\n",
       "      <td>0.08758</td>\n",
       "      <td>0.0</td>\n",
       "    </tr>\n",
       "    <tr>\n",
       "      <th>3</th>\n",
       "      <td>11.42</td>\n",
       "      <td>20.38</td>\n",
       "      <td>77.58</td>\n",
       "      <td>386.1</td>\n",
       "      <td>0.14250</td>\n",
       "      <td>0.28390</td>\n",
       "      <td>0.2414</td>\n",
       "      <td>0.10520</td>\n",
       "      <td>0.2597</td>\n",
       "      <td>0.09744</td>\n",
       "      <td>...</td>\n",
       "      <td>26.50</td>\n",
       "      <td>98.87</td>\n",
       "      <td>567.7</td>\n",
       "      <td>0.2098</td>\n",
       "      <td>0.8663</td>\n",
       "      <td>0.6869</td>\n",
       "      <td>0.2575</td>\n",
       "      <td>0.6638</td>\n",
       "      <td>0.17300</td>\n",
       "      <td>0.0</td>\n",
       "    </tr>\n",
       "    <tr>\n",
       "      <th>4</th>\n",
       "      <td>20.29</td>\n",
       "      <td>14.34</td>\n",
       "      <td>135.10</td>\n",
       "      <td>1297.0</td>\n",
       "      <td>0.10030</td>\n",
       "      <td>0.13280</td>\n",
       "      <td>0.1980</td>\n",
       "      <td>0.10430</td>\n",
       "      <td>0.1809</td>\n",
       "      <td>0.05883</td>\n",
       "      <td>...</td>\n",
       "      <td>16.67</td>\n",
       "      <td>152.20</td>\n",
       "      <td>1575.0</td>\n",
       "      <td>0.1374</td>\n",
       "      <td>0.2050</td>\n",
       "      <td>0.4000</td>\n",
       "      <td>0.1625</td>\n",
       "      <td>0.2364</td>\n",
       "      <td>0.07678</td>\n",
       "      <td>0.0</td>\n",
       "    </tr>\n",
       "  </tbody>\n",
       "</table>\n",
       "<p>5 rows × 31 columns</p>\n",
       "</div>"
      ],
      "text/plain": [
       "   mean radius  mean texture  mean perimeter  mean area  mean smoothness  \\\n",
       "0        17.99         10.38          122.80     1001.0          0.11840   \n",
       "1        20.57         17.77          132.90     1326.0          0.08474   \n",
       "2        19.69         21.25          130.00     1203.0          0.10960   \n",
       "3        11.42         20.38           77.58      386.1          0.14250   \n",
       "4        20.29         14.34          135.10     1297.0          0.10030   \n",
       "\n",
       "   mean compactness  mean concavity  mean concave points  mean symmetry  \\\n",
       "0           0.27760          0.3001              0.14710         0.2419   \n",
       "1           0.07864          0.0869              0.07017         0.1812   \n",
       "2           0.15990          0.1974              0.12790         0.2069   \n",
       "3           0.28390          0.2414              0.10520         0.2597   \n",
       "4           0.13280          0.1980              0.10430         0.1809   \n",
       "\n",
       "   mean fractal dimension  ...  worst texture  worst perimeter  worst area  \\\n",
       "0                 0.07871  ...          17.33           184.60      2019.0   \n",
       "1                 0.05667  ...          23.41           158.80      1956.0   \n",
       "2                 0.05999  ...          25.53           152.50      1709.0   \n",
       "3                 0.09744  ...          26.50            98.87       567.7   \n",
       "4                 0.05883  ...          16.67           152.20      1575.0   \n",
       "\n",
       "   worst smoothness  worst compactness  worst concavity  worst concave points  \\\n",
       "0            0.1622             0.6656           0.7119                0.2654   \n",
       "1            0.1238             0.1866           0.2416                0.1860   \n",
       "2            0.1444             0.4245           0.4504                0.2430   \n",
       "3            0.2098             0.8663           0.6869                0.2575   \n",
       "4            0.1374             0.2050           0.4000                0.1625   \n",
       "\n",
       "   worst symmetry  worst fractal dimension  target  \n",
       "0          0.4601                  0.11890     0.0  \n",
       "1          0.2750                  0.08902     0.0  \n",
       "2          0.3613                  0.08758     0.0  \n",
       "3          0.6638                  0.17300     0.0  \n",
       "4          0.2364                  0.07678     0.0  \n",
       "\n",
       "[5 rows x 31 columns]"
      ]
     },
     "execution_count": 3,
     "metadata": {},
     "output_type": "execute_result"
    }
   ],
   "source": [
    "# Dataset first 5 records \n",
    "df.head()"
   ]
  },
  {
   "cell_type": "code",
   "execution_count": 4,
   "metadata": {},
   "outputs": [
    {
     "name": "stdout",
     "output_type": "stream",
     "text": [
      "<class 'pandas.core.frame.DataFrame'>\n",
      "RangeIndex: 569 entries, 0 to 568\n",
      "Data columns (total 31 columns):\n",
      " #   Column                   Non-Null Count  Dtype  \n",
      "---  ------                   --------------  -----  \n",
      " 0   mean radius              569 non-null    float64\n",
      " 1   mean texture             569 non-null    float64\n",
      " 2   mean perimeter           569 non-null    float64\n",
      " 3   mean area                569 non-null    float64\n",
      " 4   mean smoothness          569 non-null    float64\n",
      " 5   mean compactness         569 non-null    float64\n",
      " 6   mean concavity           569 non-null    float64\n",
      " 7   mean concave points      569 non-null    float64\n",
      " 8   mean symmetry            569 non-null    float64\n",
      " 9   mean fractal dimension   569 non-null    float64\n",
      " 10  radius error             569 non-null    float64\n",
      " 11  texture error            569 non-null    float64\n",
      " 12  perimeter error          569 non-null    float64\n",
      " 13  area error               569 non-null    float64\n",
      " 14  smoothness error         569 non-null    float64\n",
      " 15  compactness error        569 non-null    float64\n",
      " 16  concavity error          569 non-null    float64\n",
      " 17  concave points error     569 non-null    float64\n",
      " 18  symmetry error           569 non-null    float64\n",
      " 19  fractal dimension error  569 non-null    float64\n",
      " 20  worst radius             569 non-null    float64\n",
      " 21  worst texture            569 non-null    float64\n",
      " 22  worst perimeter          569 non-null    float64\n",
      " 23  worst area               569 non-null    float64\n",
      " 24  worst smoothness         569 non-null    float64\n",
      " 25  worst compactness        569 non-null    float64\n",
      " 26  worst concavity          569 non-null    float64\n",
      " 27  worst concave points     569 non-null    float64\n",
      " 28  worst symmetry           569 non-null    float64\n",
      " 29  worst fractal dimension  569 non-null    float64\n",
      " 30  target                   569 non-null    float64\n",
      "dtypes: float64(31)\n",
      "memory usage: 137.9 KB\n"
     ]
    }
   ],
   "source": [
    "# Dataset Info: 569 records, 31 columns, no missing entries,Dtype:float64\n",
    "df.info()"
   ]
  },
  {
   "cell_type": "code",
   "execution_count": 5,
   "metadata": {
    "scrolled": false
   },
   "outputs": [
    {
     "data": {
      "image/png": "[encoded data removed]",
      "text/plain": [
       "<Figure size 720x432 with 1 Axes>"
      ]
     },
     "metadata": {
      "needs_background": "light"
     },
     "output_type": "display_data"
    }
   ],
   "source": [
    "# Due to the binary nature of the dependent(output) parameter 'target'(Benign:0,Malignant:1), the sns.countplot is \n",
    "# employed to observe the count & percentage of each sub-group with respect to the total values of the df['target'] column.\n",
    "plt.figure(figsize=(10,6))\n",
    "plt.rcParams['font.weight']='bold'\n",
    "total = len(df['target'])\n",
    "count_target=sns.countplot(x='target',data=df)\n",
    "plt.xlabel('Target',fontweight='bold')\n",
    "plt.ylabel('Count',fontweight='bold')\n",
    "for p in count_target.patches:\n",
    "    count_target.annotate('{:.2f}%'.format(100*p.get_height()/total), (p.get_x() + p.get_width() / 2., p.get_height()), \n",
    "                               ha = 'center', va = 'center', xytext = (0, -20), textcoords = 'offset points')"
   ]
  },
  {
   "cell_type": "code",
   "execution_count": 6,
   "metadata": {},
   "outputs": [],
   "source": [
    "# Selecting the independent(inputs) & the dependent(output) parameters that are to be used for the training of the \n",
    "# Deep Neural Netmork model\n",
    "X=df.iloc[:,:-1].values\n",
    "y=df.iloc[:,-1].values"
   ]
  },
  {
   "cell_type": "code",
   "execution_count": 7,
   "metadata": {},
   "outputs": [
    {
     "name": "stdout",
     "output_type": "stream",
     "text": [
      "(569, 30) (569,)\n"
     ]
    }
   ],
   "source": [
    "# Inputs/Output shape\n",
    "print(X.shape,y.shape)"
   ]
  },
  {
   "cell_type": "code",
   "execution_count": 8,
   "metadata": {},
   "outputs": [],
   "source": [
    "# Splitting the dataset (train samples,test samples(0.2 --> 20% of len(df)))\n",
    "from sklearn.model_selection import train_test_split\n",
    "X_train, X_test, y_train, y_test = train_test_split(X, y, test_size = 0.2, random_state = 0)"
   ]
  },
  {
   "cell_type": "code",
   "execution_count": 9,
   "metadata": {
    "scrolled": true
   },
   "outputs": [
    {
     "name": "stdout",
     "output_type": "stream",
     "text": [
      "(455, 30) (455,)\n",
      "(114, 30) (114,)\n"
     ]
    }
   ],
   "source": [
    "# Shape of train & test samples\n",
    "print(X_train.shape,y_train.shape)\n",
    "print(X_test.shape,y_test.shape)"
   ]
  },
  {
   "cell_type": "code",
   "execution_count": 10,
   "metadata": {},
   "outputs": [
    {
     "data": {
      "text/plain": [
       "[0, 1, 2, 3, 10, 11, 12, 13, 20, 21, 22, 23, 25, 26]"
      ]
     },
     "execution_count": 10,
     "metadata": {},
     "output_type": "execute_result"
    }
   ],
   "source": [
    "# Since rescaling is to be applied (MinMaxScaler: range(0,1)), the loop determines the dataset features where rescaling is\n",
    "# to be applied\n",
    "sc_in=[]\n",
    "for i in range(0,df.shape[1]):\n",
    "        if df.iloc[:,i].min()<0 or df.iloc[:,i].max()>1:\n",
    "            sc_in.append(i)\n",
    "sc_in"
   ]
  },
  {
   "cell_type": "code",
   "execution_count": 11,
   "metadata": {},
   "outputs": [],
   "source": [
    "# Importing the MinMaxScaler from sklearn.preprocessing\n",
    "from sklearn.preprocessing import MinMaxScaler\n",
    "scaler=MinMaxScaler()\n",
    "# MinMaxScaler is used to transform dataset columns by scaling them between 0 & 1.Training samples are first fitted \n",
    "# and then transformed, whereas the test samples are transformed based on the previously fitted training samples in order\n",
    "# to avoid forecasting with a biased ML model. In this case, the features with indices the values of sc_in list are rescaled\n",
    "X_train[:,sc_in] = scaler.fit_transform(X_train[:,sc_in])\n",
    "X_test[:,sc_in] = scaler.transform(X_test[:,sc_in])  "
   ]
  },
  {
   "cell_type": "code",
   "execution_count": 12,
   "metadata": {},
   "outputs": [],
   "source": [
    "# Importing the necessary classifier,model,layers to create the deep learning model\n",
    "from tensorflow.keras.wrappers.scikit_learn import KerasClassifier\n",
    "from tensorflow.keras.models import Sequential\n",
    "from tensorflow.keras.layers import Dense, Activation\n",
    "# Importing GridSearchCV to enable the tuning of the deep learning model hyperparameters\n",
    "from sklearn.model_selection import GridSearchCV\n",
    "import tensorflow as tf"
   ]
  },
  {
   "cell_type": "code",
   "execution_count": 13,
   "metadata": {},
   "outputs": [],
   "source": [
    "# Function to build the neural network\n",
    "def dnn_model(layers,activation,init):\n",
    "    tf.random.set_seed(0)\n",
    "    np.random.seed(0)\n",
    "    model = Sequential()\n",
    "    for x, neurons in enumerate(layers):\n",
    "        if x==0:\n",
    "            model.add(Dense(neurons,input_dim=X_train.shape[1],kernel_initializer=init))\n",
    "            model.add(Activation(activation))\n",
    "        else:\n",
    "            model.add(Dense(neurons,kernel_initializer=init))\n",
    "            model.add(Activation(activation))\n",
    "    model.add(Dense(1,activation='sigmoid')) \n",
    "    \n",
    "    model.compile(optimizer='adam', loss='binary_crossentropy',metrics=['accuracy'])\n",
    "    return model\n",
    "    \n",
    "model = KerasClassifier(build_fn=dnn_model, verbose=0)\n"
   ]
  },
  {
   "cell_type": "code",
   "execution_count": 14,
   "metadata": {},
   "outputs": [],
   "source": [
    "# Selecting different parameter inputs for each model hyperparameter to apply grid search\n",
    "# The deep learning model parameters that are to be tuned are: a)number of hidden layers & number of neurons,b) activation\n",
    "# function, c) weight initialization (kernel_initializer),d) batch_size and e) number of epochs\n",
    "hiddenlayers=[(30), (30,15), (30,15,7)]\n",
    "act_fun = ['sigmoid', 'relu']\n",
    "kernelinit=['GlorotUniform','HeUniform']\n",
    "parameters = dict(layers=hiddenlayers, activation=act_fun,init=kernelinit, batch_size = [4,8,16], epochs=[50,100])\n",
    "grid_search = GridSearchCV(estimator=model, param_grid=parameters,refit=True,cv=5)"
   ]
  },
  {
   "cell_type": "code",
   "execution_count": 15,
   "metadata": {},
   "outputs": [],
   "source": [
    "# fitting the model to the train samples\n",
    "gridsearch_res = grid_search.fit(X_train, y_train)"
   ]
  },
  {
   "cell_type": "code",
   "execution_count": 16,
   "metadata": {
    "scrolled": false
   },
   "outputs": [
    {
     "data": {
      "text/plain": [
       "dict_keys(['mean_fit_time', 'std_fit_time', 'mean_score_time', 'std_score_time', 'param_activation', 'param_batch_size', 'param_epochs', 'param_init', 'param_layers', 'params', 'split0_test_score', 'split1_test_score', 'split2_test_score', 'split3_test_score', 'split4_test_score', 'mean_test_score', 'std_test_score', 'rank_test_score'])"
      ]
     },
     "execution_count": 16,
     "metadata": {},
     "output_type": "execute_result"
    }
   ],
   "source": [
    "# All the available information/options that can be provided in terms of the outcome of the grid search\n",
    "grid_search.cv_results_.keys()"
   ]
  },
  {
   "cell_type": "code",
   "execution_count": 17,
   "metadata": {},
   "outputs": [
    {
     "name": "stdout",
     "output_type": "stream",
     "text": [
      "Mean_Sc:nan-->{'activation': 'sigmoid', 'batch_size': 4, 'epochs': 50, 'init': 'GlorotUniform', 'layers': 30}\n",
      "Mean_Sc:0.967033-->{'activation': 'sigmoid', 'batch_size': 4, 'epochs': 50, 'init': 'GlorotUniform', 'layers': (30, 15)}\n",
      "Mean_Sc:0.962637-->{'activation': 'sigmoid', 'batch_size': 4, 'epochs': 50, 'init': 'GlorotUniform', 'layers': (30, 15, 7)}\n",
      "Mean_Sc:nan-->{'activation': 'sigmoid', 'batch_size': 4, 'epochs': 50, 'init': 'HeUniform', 'layers': 30}\n",
      "Mean_Sc:0.967033-->{'activation': 'sigmoid', 'batch_size': 4, 'epochs': 50, 'init': 'HeUniform', 'layers': (30, 15)}\n",
      "Mean_Sc:0.962637-->{'activation': 'sigmoid', 'batch_size': 4, 'epochs': 50, 'init': 'HeUniform', 'layers': (30, 15, 7)}\n",
      "Mean_Sc:nan-->{'activation': 'sigmoid', 'batch_size': 4, 'epochs': 100, 'init': 'GlorotUniform', 'layers': 30}\n",
      "Mean_Sc:0.967033-->{'activation': 'sigmoid', 'batch_size': 4, 'epochs': 100, 'init': 'GlorotUniform', 'layers': (30, 15)}\n",
      "Mean_Sc:0.967033-->{'activation': 'sigmoid', 'batch_size': 4, 'epochs': 100, 'init': 'GlorotUniform', 'layers': (30, 15, 7)}\n",
      "Mean_Sc:nan-->{'activation': 'sigmoid', 'batch_size': 4, 'epochs': 100, 'init': 'HeUniform', 'layers': 30}\n",
      "Mean_Sc:0.967033-->{'activation': 'sigmoid', 'batch_size': 4, 'epochs': 100, 'init': 'HeUniform', 'layers': (30, 15)}\n",
      "Mean_Sc:0.967033-->{'activation': 'sigmoid', 'batch_size': 4, 'epochs': 100, 'init': 'HeUniform', 'layers': (30, 15, 7)}\n",
      "Mean_Sc:nan-->{'activation': 'sigmoid', 'batch_size': 8, 'epochs': 50, 'init': 'GlorotUniform', 'layers': 30}\n",
      "Mean_Sc:0.962637-->{'activation': 'sigmoid', 'batch_size': 8, 'epochs': 50, 'init': 'GlorotUniform', 'layers': (30, 15)}\n",
      "Mean_Sc:0.962637-->{'activation': 'sigmoid', 'batch_size': 8, 'epochs': 50, 'init': 'GlorotUniform', 'layers': (30, 15, 7)}\n",
      "Mean_Sc:nan-->{'activation': 'sigmoid', 'batch_size': 8, 'epochs': 50, 'init': 'HeUniform', 'layers': 30}\n",
      "Mean_Sc:0.962637-->{'activation': 'sigmoid', 'batch_size': 8, 'epochs': 50, 'init': 'HeUniform', 'layers': (30, 15)}\n",
      "Mean_Sc:0.962637-->{'activation': 'sigmoid', 'batch_size': 8, 'epochs': 50, 'init': 'HeUniform', 'layers': (30, 15, 7)}\n",
      "Mean_Sc:nan-->{'activation': 'sigmoid', 'batch_size': 8, 'epochs': 100, 'init': 'GlorotUniform', 'layers': 30}\n",
      "Mean_Sc:0.969231-->{'activation': 'sigmoid', 'batch_size': 8, 'epochs': 100, 'init': 'GlorotUniform', 'layers': (30, 15)}\n",
      "Mean_Sc:0.967033-->{'activation': 'sigmoid', 'batch_size': 8, 'epochs': 100, 'init': 'GlorotUniform', 'layers': (30, 15, 7)}\n",
      "Mean_Sc:nan-->{'activation': 'sigmoid', 'batch_size': 8, 'epochs': 100, 'init': 'HeUniform', 'layers': 30}\n",
      "Mean_Sc:0.969231-->{'activation': 'sigmoid', 'batch_size': 8, 'epochs': 100, 'init': 'HeUniform', 'layers': (30, 15)}\n",
      "Mean_Sc:0.967033-->{'activation': 'sigmoid', 'batch_size': 8, 'epochs': 100, 'init': 'HeUniform', 'layers': (30, 15, 7)}\n",
      "Mean_Sc:nan-->{'activation': 'sigmoid', 'batch_size': 16, 'epochs': 50, 'init': 'GlorotUniform', 'layers': 30}\n",
      "Mean_Sc:0.953846-->{'activation': 'sigmoid', 'batch_size': 16, 'epochs': 50, 'init': 'GlorotUniform', 'layers': (30, 15)}\n",
      "Mean_Sc:0.958242-->{'activation': 'sigmoid', 'batch_size': 16, 'epochs': 50, 'init': 'GlorotUniform', 'layers': (30, 15, 7)}\n",
      "Mean_Sc:nan-->{'activation': 'sigmoid', 'batch_size': 16, 'epochs': 50, 'init': 'HeUniform', 'layers': 30}\n",
      "Mean_Sc:0.953846-->{'activation': 'sigmoid', 'batch_size': 16, 'epochs': 50, 'init': 'HeUniform', 'layers': (30, 15)}\n",
      "Mean_Sc:0.96044-->{'activation': 'sigmoid', 'batch_size': 16, 'epochs': 50, 'init': 'HeUniform', 'layers': (30, 15, 7)}\n",
      "Mean_Sc:nan-->{'activation': 'sigmoid', 'batch_size': 16, 'epochs': 100, 'init': 'GlorotUniform', 'layers': 30}\n",
      "Mean_Sc:0.962637-->{'activation': 'sigmoid', 'batch_size': 16, 'epochs': 100, 'init': 'GlorotUniform', 'layers': (30, 15)}\n",
      "Mean_Sc:0.962637-->{'activation': 'sigmoid', 'batch_size': 16, 'epochs': 100, 'init': 'GlorotUniform', 'layers': (30, 15, 7)}\n",
      "Mean_Sc:nan-->{'activation': 'sigmoid', 'batch_size': 16, 'epochs': 100, 'init': 'HeUniform', 'layers': 30}\n",
      "Mean_Sc:0.962637-->{'activation': 'sigmoid', 'batch_size': 16, 'epochs': 100, 'init': 'HeUniform', 'layers': (30, 15)}\n",
      "Mean_Sc:0.962637-->{'activation': 'sigmoid', 'batch_size': 16, 'epochs': 100, 'init': 'HeUniform', 'layers': (30, 15, 7)}\n",
      "Mean_Sc:nan-->{'activation': 'relu', 'batch_size': 4, 'epochs': 50, 'init': 'GlorotUniform', 'layers': 30}\n",
      "Mean_Sc:0.969231-->{'activation': 'relu', 'batch_size': 4, 'epochs': 50, 'init': 'GlorotUniform', 'layers': (30, 15)}\n",
      "Mean_Sc:0.964835-->{'activation': 'relu', 'batch_size': 4, 'epochs': 50, 'init': 'GlorotUniform', 'layers': (30, 15, 7)}\n",
      "Mean_Sc:nan-->{'activation': 'relu', 'batch_size': 4, 'epochs': 50, 'init': 'HeUniform', 'layers': 30}\n",
      "Mean_Sc:0.967033-->{'activation': 'relu', 'batch_size': 4, 'epochs': 50, 'init': 'HeUniform', 'layers': (30, 15)}\n",
      "Mean_Sc:0.964835-->{'activation': 'relu', 'batch_size': 4, 'epochs': 50, 'init': 'HeUniform', 'layers': (30, 15, 7)}\n",
      "Mean_Sc:nan-->{'activation': 'relu', 'batch_size': 4, 'epochs': 100, 'init': 'GlorotUniform', 'layers': 30}\n",
      "Mean_Sc:0.973626-->{'activation': 'relu', 'batch_size': 4, 'epochs': 100, 'init': 'GlorotUniform', 'layers': (30, 15)}\n",
      "Mean_Sc:0.969231-->{'activation': 'relu', 'batch_size': 4, 'epochs': 100, 'init': 'GlorotUniform', 'layers': (30, 15, 7)}\n",
      "Mean_Sc:nan-->{'activation': 'relu', 'batch_size': 4, 'epochs': 100, 'init': 'HeUniform', 'layers': 30}\n",
      "Mean_Sc:0.962637-->{'activation': 'relu', 'batch_size': 4, 'epochs': 100, 'init': 'HeUniform', 'layers': (30, 15)}\n",
      "Mean_Sc:0.973626-->{'activation': 'relu', 'batch_size': 4, 'epochs': 100, 'init': 'HeUniform', 'layers': (30, 15, 7)}\n",
      "Mean_Sc:nan-->{'activation': 'relu', 'batch_size': 8, 'epochs': 50, 'init': 'GlorotUniform', 'layers': 30}\n",
      "Mean_Sc:0.962637-->{'activation': 'relu', 'batch_size': 8, 'epochs': 50, 'init': 'GlorotUniform', 'layers': (30, 15)}\n",
      "Mean_Sc:0.964835-->{'activation': 'relu', 'batch_size': 8, 'epochs': 50, 'init': 'GlorotUniform', 'layers': (30, 15, 7)}\n",
      "Mean_Sc:nan-->{'activation': 'relu', 'batch_size': 8, 'epochs': 50, 'init': 'HeUniform', 'layers': 30}\n",
      "Mean_Sc:0.962637-->{'activation': 'relu', 'batch_size': 8, 'epochs': 50, 'init': 'HeUniform', 'layers': (30, 15)}\n",
      "Mean_Sc:0.967033-->{'activation': 'relu', 'batch_size': 8, 'epochs': 50, 'init': 'HeUniform', 'layers': (30, 15, 7)}\n",
      "Mean_Sc:nan-->{'activation': 'relu', 'batch_size': 8, 'epochs': 100, 'init': 'GlorotUniform', 'layers': 30}\n",
      "Mean_Sc:0.967033-->{'activation': 'relu', 'batch_size': 8, 'epochs': 100, 'init': 'GlorotUniform', 'layers': (30, 15)}\n",
      "Mean_Sc:0.967033-->{'activation': 'relu', 'batch_size': 8, 'epochs': 100, 'init': 'GlorotUniform', 'layers': (30, 15, 7)}\n",
      "Mean_Sc:nan-->{'activation': 'relu', 'batch_size': 8, 'epochs': 100, 'init': 'HeUniform', 'layers': 30}\n",
      "Mean_Sc:0.964835-->{'activation': 'relu', 'batch_size': 8, 'epochs': 100, 'init': 'HeUniform', 'layers': (30, 15)}\n",
      "Mean_Sc:0.967033-->{'activation': 'relu', 'batch_size': 8, 'epochs': 100, 'init': 'HeUniform', 'layers': (30, 15, 7)}\n",
      "Mean_Sc:nan-->{'activation': 'relu', 'batch_size': 16, 'epochs': 50, 'init': 'GlorotUniform', 'layers': 30}\n",
      "Mean_Sc:0.962637-->{'activation': 'relu', 'batch_size': 16, 'epochs': 50, 'init': 'GlorotUniform', 'layers': (30, 15)}\n",
      "Mean_Sc:0.96044-->{'activation': 'relu', 'batch_size': 16, 'epochs': 50, 'init': 'GlorotUniform', 'layers': (30, 15, 7)}\n",
      "Mean_Sc:nan-->{'activation': 'relu', 'batch_size': 16, 'epochs': 50, 'init': 'HeUniform', 'layers': 30}\n",
      "Mean_Sc:0.964835-->{'activation': 'relu', 'batch_size': 16, 'epochs': 50, 'init': 'HeUniform', 'layers': (30, 15)}\n",
      "Mean_Sc:0.962637-->{'activation': 'relu', 'batch_size': 16, 'epochs': 50, 'init': 'HeUniform', 'layers': (30, 15, 7)}\n",
      "Mean_Sc:nan-->{'activation': 'relu', 'batch_size': 16, 'epochs': 100, 'init': 'GlorotUniform', 'layers': 30}\n",
      "Mean_Sc:0.969231-->{'activation': 'relu', 'batch_size': 16, 'epochs': 100, 'init': 'GlorotUniform', 'layers': (30, 15)}\n",
      "Mean_Sc:0.973626-->{'activation': 'relu', 'batch_size': 16, 'epochs': 100, 'init': 'GlorotUniform', 'layers': (30, 15, 7)}\n",
      "Mean_Sc:nan-->{'activation': 'relu', 'batch_size': 16, 'epochs': 100, 'init': 'HeUniform', 'layers': 30}\n",
      "Mean_Sc:0.967033-->{'activation': 'relu', 'batch_size': 16, 'epochs': 100, 'init': 'HeUniform', 'layers': (30, 15)}\n",
      "Mean_Sc:0.969231-->{'activation': 'relu', 'batch_size': 16, 'epochs': 100, 'init': 'HeUniform', 'layers': (30, 15, 7)}\n"
     ]
    }
   ],
   "source": [
    "# Observing the scores for all different combinations of grid search\n",
    "parameters=gridsearch_res.cv_results_['params']\n",
    "mean_score = gridsearch_res.cv_results_['mean_test_score']\n",
    "mean_score=mean_score.round(6)\n",
    "for mean_sc,  parameter in zip(mean_score, parameters):\n",
    "    print('Mean_Sc:{}-->{}'.format(mean_sc, parameter))"
   ]
  },
  {
   "cell_type": "code",
   "execution_count": 18,
   "metadata": {},
   "outputs": [
    {
     "name": "stdout",
     "output_type": "stream",
     "text": [
      "Best Score: 0.9736263751983643\n",
      "\r\n",
      "Best DNN Model Param: {'activation': 'relu', 'batch_size': 4, 'epochs': 100, 'init': 'GlorotUniform', 'layers': (30, 15)}\n"
     ]
    }
   ],
   "source": [
    "# Grid Search : Best Score & Best Parameters\n",
    "print('Best Score: {}'.format(gridsearch_res.best_score_))\n",
    "print('\\r')\n",
    "print('Best DNN Model Param: {}'.format(gridsearch_res.best_params_))"
   ]
  },
  {
   "cell_type": "code",
   "execution_count": 19,
   "metadata": {},
   "outputs": [
    {
     "data": {
      "text/plain": [
       "array([[0.],\n",
       "       [1.],\n",
       "       [1.],\n",
       "       [1.],\n",
       "       [1.]])"
      ]
     },
     "execution_count": 19,
     "metadata": {},
     "output_type": "execute_result"
    }
   ],
   "source": [
    "# Predicting the class of the test samples\n",
    "prediction = grid_search.predict(X_test)\n",
    "# first 5 predictions\n",
    "prediction[:5]"
   ]
  },
  {
   "cell_type": "code",
   "execution_count": 20,
   "metadata": {},
   "outputs": [
    {
     "data": {
      "text/plain": [
       "array([[False],\n",
       "       [ True],\n",
       "       [ True],\n",
       "       [ True],\n",
       "       [ True]])"
      ]
     },
     "execution_count": 20,
     "metadata": {},
     "output_type": "execute_result"
    }
   ],
   "source": [
    "# Since its binary classification, if ypred > 0.5 then class 1 else class 0\n",
    "ypred=prediction>0.5\n",
    "ypred[:5]"
   ]
  },
  {
   "cell_type": "code",
   "execution_count": 21,
   "metadata": {},
   "outputs": [],
   "source": [
    "# Importing classification report, confusion matrix and accuracy\n",
    "from sklearn.metrics import classification_report,confusion_matrix,accuracy_score"
   ]
  },
  {
   "cell_type": "code",
   "execution_count": 22,
   "metadata": {},
   "outputs": [
    {
     "name": "stdout",
     "output_type": "stream",
     "text": [
      "              precision    recall  f1-score   support\n",
      "\n",
      "         0.0       0.90      0.98      0.94        47\n",
      "         1.0       0.98      0.93      0.95        67\n",
      "\n",
      "    accuracy                           0.95       114\n",
      "   macro avg       0.94      0.95      0.95       114\n",
      "weighted avg       0.95      0.95      0.95       114\n",
      "\n"
     ]
    }
   ],
   "source": [
    "#Classification Report\n",
    "print(classification_report(y_test,ypred))"
   ]
  },
  {
   "cell_type": "code",
   "execution_count": 23,
   "metadata": {},
   "outputs": [
    {
     "data": {
      "image/png": "[encoded data removed]",
      "text/plain": [
       "<Figure size 432x288 with 2 Axes>"
      ]
     },
     "metadata": {
      "needs_background": "light"
     },
     "output_type": "display_data"
    }
   ],
   "source": [
    "#Confusion Matrix\n",
    "from matplotlib import cm\n",
    "cmap = cm.coolwarm\n",
    "cmap_rev = cm.get_cmap('coolwarm_r')\n",
    "plt.plot(figsize=(10,6))\n",
    "sns.heatmap(confusion_matrix(y_test,ypred),annot=True,cmap=cmap_rev);"
   ]
  },
  {
   "cell_type": "code",
   "execution_count": 24,
   "metadata": {},
   "outputs": [
    {
     "name": "stdout",
     "output_type": "stream",
     "text": [
      "0.9473684210526315\n"
     ]
    }
   ],
   "source": [
    "# Accuracy on the test set\n",
    "print(accuracy_score(y_test,ypred))"
   ]
  }
 ],
 "metadata": {
  "kernelspec": {
   "display_name": "Python 3",
   "language": "python",
   "name": "python3"
  },
  "language_info": {
   "codemirror_mode": {
    "name": "ipython",
    "version": 3
   },
   "file_extension": ".py",
   "mimetype": "text/x-python",
   "name": "python",
   "nbconvert_exporter": "python",
   "pygments_lexer": "ipython3",
   "version": "3.8.5"
  }
 },
 "nbformat": 4,
 "nbformat_minor": 4
}
